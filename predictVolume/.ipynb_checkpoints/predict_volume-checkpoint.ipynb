{
 "cells": [
  {
   "cell_type": "code",
   "execution_count": 12,
   "metadata": {},
   "outputs": [
    {
     "data": {
      "text/plain": [
       "Index(['Unnamed: 0', 'AU200_AUD_close', 'AU200_AUD_high', 'AU200_AUD_low',\n",
       "       'AU200_AUD_open', 'AU200_AUD_vol', 'AUD_CAD_close', 'AUD_CAD_high',\n",
       "       'AUD_CAD_low', 'AUD_CAD_open',\n",
       "       ...\n",
       "       'XPT_USD_high', 'XPT_USD_low', 'XPT_USD_open', 'XPT_USD_vol',\n",
       "       'ZAR_JPY_close', 'ZAR_JPY_high', 'ZAR_JPY_low', 'ZAR_JPY_open',\n",
       "       'ZAR_JPY_vol', 'date'],\n",
       "      dtype='object', length=622)"
      ]
     },
     "execution_count": 12,
     "metadata": {},
     "output_type": "execute_result"
    }
   ],
   "source": [
    "# read in the data file \n",
    "import pandas as pd\n",
    "import numpy as np\n",
    "from sklearn.model_selection import KFold\n",
    "from sklearn.ensemble import RandomForestRegressor\n",
    "import progressbar\n",
    "from matplotlib.pyplot import plot\n",
    "\n",
    "fname = '../../data/cexport.csv'\n",
    "df = pd.read_csv(fname)\n",
    "\n",
    "df.columns"
   ]
  },
  {
   "cell_type": "code",
   "execution_count": 13,
   "metadata": {},
   "outputs": [
    {
     "data": {
      "text/plain": [
       "552    1.16982\n",
       "553    1.17247\n",
       "554    1.17154\n",
       "555    1.17849\n",
       "556    1.18031\n",
       "Name: EUR_USD_high, dtype: float64"
      ]
     },
     "execution_count": 13,
     "metadata": {},
     "output_type": "execute_result"
    }
   ],
   "source": [
    "df['EUR_USD_high'].tail()"
   ]
  },
  {
   "cell_type": "code",
   "execution_count": 14,
   "metadata": {
    "scrolled": true
   },
   "outputs": [],
   "source": [
    "str(df.shape)\n",
    "#TODO: Data cleaning. There are in some circumstances weekend candles included. \n",
    "#I think this happens when the market opens when it still sunday night in GMT\n",
    "\n",
    "# drop the date column\n",
    "\n",
    "df.drop(['date'],1,inplace = True)"
   ]
  },
  {
   "cell_type": "code",
   "execution_count": 20,
   "metadata": {},
   "outputs": [
    {
     "name": "stderr",
     "output_type": "stream",
     "text": [
      "[==============================                                          ]  42%\r"
     ]
    },
    {
     "name": "stdout",
     "output_type": "stream",
     "text": [
      "(556, 621)\n",
      "(556,)\n",
      "Cleaning training data\n"
     ]
    },
    {
     "name": "stderr",
     "output_type": "stream",
     "text": [
      "[======================================================================= ]  99%\r"
     ]
    },
    {
     "name": "stdout",
     "output_type": "stream",
     "text": [
      "(525, 621)\n",
      "(525,)\n"
     ]
    },
    {
     "name": "stderr",
     "output_type": "stream",
     "text": [
      "[Parallel(n_jobs=1)]: Done  10 out of  10 | elapsed:    1.8s finished\n",
      "[Parallel(n_jobs=1)]: Done  10 out of  10 | elapsed:    0.0s finished\n"
     ]
    },
    {
     "name": "stdout",
     "output_type": "stream",
     "text": [
      "RMSE: 42.58799815571027 %\n"
     ]
    },
    {
     "name": "stderr",
     "output_type": "stream",
     "text": [
      "[Parallel(n_jobs=1)]: Done  10 out of  10 | elapsed:    1.6s finished\n",
      "[Parallel(n_jobs=1)]: Done  10 out of  10 | elapsed:    0.0s finished\n"
     ]
    },
    {
     "name": "stdout",
     "output_type": "stream",
     "text": [
      "RMSE: 37.45475272830894 %\n",
      "RMSE: 53.06516501531898 %\n"
     ]
    },
    {
     "name": "stderr",
     "output_type": "stream",
     "text": [
      "[Parallel(n_jobs=1)]: Done  10 out of  10 | elapsed:    1.5s finished\n",
      "[Parallel(n_jobs=1)]: Done  10 out of  10 | elapsed:    0.0s finished\n"
     ]
    }
   ],
   "source": [
    "#prepare training and validation data\n",
    "def getrmse(y1, y2):\n",
    "    return np.sqrt(np.mean((2*(y1-y2)/(y1+y2))**2))\n",
    "pcol = 'USD_JPY_vol' # we will try to predict the next day tick volume traded in the USD_JPY spot market\n",
    "x = np.array(df.values)\n",
    "y = np.array(df[pcol].values)\n",
    "y = y[1:] # drop first line\n",
    "x = x[:-1,:]# drop the last line\n",
    "print(x.shape)\n",
    "print(y.shape)\n",
    "\n",
    "kf = KFold(n_splits=3)\n",
    "regr = RandomForestRegressor(verbose = 1)\n",
    "\n",
    "#remove missing lines from the training data\n",
    "i = 0\n",
    "print('Cleaning training data')\n",
    "bar = progressbar.ProgressBar(maxval=y.shape[0], \\\n",
    "    widgets=[progressbar.Bar('=', '[', ']'), ' ', progressbar.Percentage()])\n",
    "bar.start()\n",
    "l = 0\n",
    "while i < y.shape[0]:\n",
    "    if y[i] < 0: # missing values are marked with -1\n",
    "        y = np.delete(y,i)\n",
    "        x = np.delete(x, (i), axis = 0)\n",
    "    else:\n",
    "        i += 1\n",
    "    bar.update(l)\n",
    "    l+=1\n",
    "print(x.shape)\n",
    "print(y.shape)\n",
    "for train_index, test_index in kf.split(x):\n",
    "    x_train, x_test = x[train_index], x[test_index]\n",
    "    y_train, y_test = y[train_index], y[test_index]\n",
    "    regr.fit(x_train, y_train)\n",
    "    yp = regr.predict(x_test)\n",
    "    print('RMSE: ' + str(100*getrmse(yp,y_test)) + ' %')\n",
    "    \n",
    "    \n",
    "# refit on the whole series\n",
    "\n",
    "regr.fit(x,y)\n",
    "yp = regr.predict(x)\n",
    "xrange = range(y.shape[0])\n",
    "\n",
    "plot(xrange, y)"
   ]
  },
  {
   "cell_type": "code",
   "execution_count": null,
   "metadata": {},
   "outputs": [],
   "source": [
    "print(np.sqrt(np.mean((y_test-yp)**2)))"
   ]
  }
 ],
 "metadata": {
  "kernelspec": {
   "display_name": "Python 3",
   "language": "python",
   "name": "python3"
  },
  "language_info": {
   "codemirror_mode": {
    "name": "ipython",
    "version": 3
   },
   "file_extension": ".py",
   "mimetype": "text/x-python",
   "name": "python",
   "nbconvert_exporter": "python",
   "pygments_lexer": "ipython3",
   "version": "3.6.5"
  }
 },
 "nbformat": 4,
 "nbformat_minor": 2
}
